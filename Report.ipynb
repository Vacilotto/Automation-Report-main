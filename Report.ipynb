{
 "cells": [
  {
   "cell_type": "markdown",
   "metadata": {},
   "source": [
    "# Automation report tool"
   ]
  },
  {
   "cell_type": "markdown",
   "metadata": {},
   "source": [
    "For this tool, you'll need the import related colections installed and you need to follow the format of the sample CSV, otherwise you'll need to do some code changes in the notebook file. Use excel to edit it more easily. For better usage of this tool follow the pattern. \n",
    "Automation status: Automated, RTA(Ready to automate), DNA(Do not automate).\n",
    "\n",
    "Set the filename on the cell that read csv to the name of your csv and hit to run all.\n",
    "The tool will generate a few charts to present your data and split the file in multiple files for easy track. A tool to merge all "
   ]
  },
  {
   "cell_type": "markdown",
   "metadata": {},
   "source": [
    "### Imports"
   ]
  },
  {
   "cell_type": "code",
   "execution_count": 41,
   "metadata": {},
   "outputs": [],
   "source": [
    "import pandas as pd\n",
    "import numpy as np\n",
    "import matplotlib.pyplot as plt\n",
    "import os\n",
    "import glob"
   ]
  },
  {
   "cell_type": "markdown",
   "metadata": {},
   "source": [
    "### Clean Splits folders"
   ]
  },
  {
   "cell_type": "code",
   "execution_count": 54,
   "metadata": {},
   "outputs": [],
   "source": [
    "files = glob.glob(os.getcwd()+'\\\\Splits\\\\Automation Tool\\\\*')\n",
    "for f in files:\n",
    "    os.remove(f)\n",
    "\n",
    "files = glob.glob(os.getcwd()+'\\\\Splits\\\\Test Types\\\\*')\n",
    "for f in files:\n",
    "    os.remove(f)\n",
    "\n",
    "    files = glob.glob(os.getcwd()+'\\\\Splits\\\\Automation Status\\\\*')\n",
    "for f in files:\n",
    "    os.remove(f)"
   ]
  },
  {
   "cell_type": "markdown",
   "metadata": {},
   "source": [
    "### Read and show data sample"
   ]
  },
  {
   "cell_type": "code",
   "execution_count": 5,
   "metadata": {},
   "outputs": [
    {
     "data": {
      "text/html": [
       "<div>\n",
       "<style scoped>\n",
       "    .dataframe tbody tr th:only-of-type {\n",
       "        vertical-align: middle;\n",
       "    }\n",
       "\n",
       "    .dataframe tbody tr th {\n",
       "        vertical-align: top;\n",
       "    }\n",
       "\n",
       "    .dataframe thead th {\n",
       "        text-align: right;\n",
       "    }\n",
       "</style>\n",
       "<table border=\"1\" class=\"dataframe\">\n",
       "  <thead>\n",
       "    <tr style=\"text-align: right;\">\n",
       "      <th></th>\n",
       "      <th>scenario_name</th>\n",
       "      <th>application</th>\n",
       "      <th>automation_status</th>\n",
       "      <th>automation_tool</th>\n",
       "      <th>automation_reference</th>\n",
       "      <th>comments</th>\n",
       "      <th>test_type</th>\n",
       "    </tr>\n",
       "  </thead>\n",
       "  <tbody>\n",
       "    <tr>\n",
       "      <th>0</th>\n",
       "      <td>Test a</td>\n",
       "      <td>App b</td>\n",
       "      <td>Automated</td>\n",
       "      <td>WildBadger</td>\n",
       "      <td>idxxx</td>\n",
       "      <td>NaN</td>\n",
       "      <td>E2E</td>\n",
       "    </tr>\n",
       "    <tr>\n",
       "      <th>1</th>\n",
       "      <td>Test b</td>\n",
       "      <td>App b</td>\n",
       "      <td>RTA</td>\n",
       "      <td>NaN</td>\n",
       "      <td>NaN</td>\n",
       "      <td>NaN</td>\n",
       "      <td>Functional</td>\n",
       "    </tr>\n",
       "    <tr>\n",
       "      <th>2</th>\n",
       "      <td>Test c</td>\n",
       "      <td>App b</td>\n",
       "      <td>DNA</td>\n",
       "      <td>NaN</td>\n",
       "      <td>NaN</td>\n",
       "      <td>Not possible due to vbn</td>\n",
       "      <td>Functional</td>\n",
       "    </tr>\n",
       "    <tr>\n",
       "      <th>3</th>\n",
       "      <td>Test d</td>\n",
       "      <td>App b</td>\n",
       "      <td>Automated</td>\n",
       "      <td>Selenium</td>\n",
       "      <td>Repository z</td>\n",
       "      <td>NaN</td>\n",
       "      <td>Functional</td>\n",
       "    </tr>\n",
       "    <tr>\n",
       "      <th>4</th>\n",
       "      <td>Test a1</td>\n",
       "      <td>App b</td>\n",
       "      <td>RTA</td>\n",
       "      <td>NaN</td>\n",
       "      <td>NaN</td>\n",
       "      <td>NaN</td>\n",
       "      <td>Functional</td>\n",
       "    </tr>\n",
       "  </tbody>\n",
       "</table>\n",
       "</div>"
      ],
      "text/plain": [
       "  scenario_name application automation_status automation_tool  \\\n",
       "0        Test a       App b         Automated      WildBadger   \n",
       "1        Test b       App b               RTA             NaN   \n",
       "2        Test c       App b               DNA             NaN   \n",
       "3        Test d       App b         Automated        Selenium   \n",
       "4       Test a1       App b               RTA             NaN   \n",
       "\n",
       "  automation_reference                 comments   test_type  \n",
       "0                idxxx                      NaN         E2E  \n",
       "1                  NaN                      NaN  Functional  \n",
       "2                  NaN  Not possible due to vbn  Functional  \n",
       "3         Repository z                      NaN  Functional  \n",
       "4                  NaN                      NaN  Functional  "
      ]
     },
     "execution_count": 5,
     "metadata": {},
     "output_type": "execute_result"
    }
   ],
   "source": [
    "file = pd.read_csv('Sample.csv', sep = ';')\n",
    "file.head(5)"
   ]
  },
  {
   "cell_type": "code",
   "execution_count": 41,
   "metadata": {},
   "outputs": [
    {
     "data": {
      "text/plain": [
       "Automated    0.466667\n",
       "RTA          0.400000\n",
       "DNA          0.133333\n",
       "Name: automation_status, dtype: float64"
      ]
     },
     "execution_count": 41,
     "metadata": {},
     "output_type": "execute_result"
    }
   ],
   "source": [
    "file.automation_status.value_counts(normalize=True)"
   ]
  },
  {
   "cell_type": "markdown",
   "metadata": {},
   "source": [
    "### Charts section"
   ]
  },
  {
   "cell_type": "code",
   "execution_count": 39,
   "metadata": {},
   "outputs": [
    {
     "data": {
      "text/plain": [
       "Text(0.5, 1.0, 'Test count by application')"
      ]
     },
     "execution_count": 39,
     "metadata": {},
     "output_type": "execute_result"
    },
    {
     "data": {
      "image/png": "[encoded data removed]",
      "text/plain": [
       "<Figure size 432x288 with 1 Axes>"
      ]
     },
     "metadata": {
      "needs_background": "light"
     },
     "output_type": "display_data"
    }
   ],
   "source": [
    "file.application.value_counts().plot(kind='bar')\n",
    "plt.xlabel('Application name')\n",
    "plt.title('Test count by application')"
   ]
  },
  {
   "cell_type": "code",
   "execution_count": 6,
   "metadata": {},
   "outputs": [
    {
     "data": {
      "text/plain": [
       "Text(0.5, 1.0, 'Test count by test type')"
      ]
     },
     "execution_count": 6,
     "metadata": {},
     "output_type": "execute_result"
    },
    {
     "data": {
      "image/png": "[encoded data removed]",
      "text/plain": [
       "<Figure size 432x288 with 1 Axes>"
      ]
     },
     "metadata": {
      "needs_background": "light"
     },
     "output_type": "display_data"
    }
   ],
   "source": [
    "file.test_type.value_counts().plot(kind='bar')\n",
    "plt.xlabel('Test types')\n",
    "plt.title('Test count by test type')"
   ]
  },
  {
   "cell_type": "code",
   "execution_count": 40,
   "metadata": {},
   "outputs": [
    {
     "data": {
      "text/plain": [
       "Text(0.5, 1.0, 'Automation Status count')"
      ]
     },
     "execution_count": 40,
     "metadata": {},
     "output_type": "execute_result"
    },
    {
     "data": {
      "image/png": "[encoded data removed]",
      "text/plain": [
       "<Figure size 432x288 with 1 Axes>"
      ]
     },
     "metadata": {
      "needs_background": "light"
     },
     "output_type": "display_data"
    }
   ],
   "source": [
    "file['automation_status'].value_counts().plot(kind='bar')\n",
    "plt.xlabel('Status')\n",
    "plt.title('Automation Status count')"
   ]
  },
  {
   "cell_type": "code",
   "execution_count": 51,
   "metadata": {},
   "outputs": [
    {
     "data": {
      "text/plain": [
       "Text(0.5, 1.0, 'Test status percentage')"
      ]
     },
     "execution_count": 51,
     "metadata": {},
     "output_type": "execute_result"
    },
    {
     "data": {
      "image/png": "[encoded data removed]",
      "text/plain": [
       "<Figure size 432x288 with 1 Axes>"
      ]
     },
     "metadata": {},
     "output_type": "display_data"
    }
   ],
   "source": [
    "file['automation_status'].value_counts(normalize=True).plot(kind='pie', autopct='%1.1f%%')\n",
    "plt.ylabel('')\n",
    "plt.title('Test status percentage')"
   ]
  },
  {
   "cell_type": "code",
   "execution_count": 4,
   "metadata": {},
   "outputs": [
    {
     "data": {
      "text/plain": [
       "Text(0.5, 1.0, 'Automation tool usage')"
      ]
     },
     "execution_count": 4,
     "metadata": {},
     "output_type": "execute_result"
    },
    {
     "data": {
      "image/png": "[encoded data removed]",
      "text/plain": [
       "<Figure size 432x288 with 1 Axes>"
      ]
     },
     "metadata": {},
     "output_type": "display_data"
    }
   ],
   "source": [
    "file['automation_tool'].value_counts(normalize=True).plot(kind='pie', autopct='%1.1f%%')\n",
    "plt.ylabel('')\n",
    "plt.title('Automation tool usage')"
   ]
  },
  {
   "cell_type": "markdown",
   "metadata": {},
   "source": [
    "### Spliting files"
   ]
  },
  {
   "cell_type": "markdown",
   "metadata": {},
   "source": [
    "#### By Test Type"
   ]
  },
  {
   "cell_type": "code",
   "execution_count": 52,
   "metadata": {},
   "outputs": [],
   "source": [
    "for type in list(dict.fromkeys(file.test_type.tolist())):\n",
    "    file.loc[file.test_type==type].to_csv(path_or_buf='Splits/Test Types/'+str(type)+'.csv',sep=';', index = False)"
   ]
  },
  {
   "cell_type": "markdown",
   "metadata": {},
   "source": [
    "#### By Automation tool"
   ]
  },
  {
   "cell_type": "code",
   "execution_count": 53,
   "metadata": {},
   "outputs": [],
   "source": [
    "for tool in list(dict.fromkeys(file.automation_tool.tolist())):\n",
    "    file.loc[file.automation_tool==tool].to_csv(path_or_buf='Splits/Automation Tool/'+str(tool)+'.csv',sep=';', index = False)"
   ]
  },
  {
   "cell_type": "markdown",
   "metadata": {},
   "source": [
    "#### By Automation status"
   ]
  },
  {
   "cell_type": "code",
   "execution_count": 51,
   "metadata": {},
   "outputs": [],
   "source": [
    "for status in list(dict.fromkeys(file.automation_status.tolist())):\n",
    "    file.loc[file.automation_status==status].to_csv(path_or_buf='Splits/Automation Status/'+str(status)+'.csv',sep=';', index = False)"
   ]
  }
 ],
 "metadata": {
  "interpreter": {
   "hash": "89cc385948b8c189c91f983b2971f3e7f8c1833dc3ab6a968c5fa4a950f7fb34"
  },
  "kernelspec": {
   "display_name": "Python 3.9.2 64-bit",
   "language": "python",
   "name": "python3"
  },
  "language_info": {
   "codemirror_mode": {
    "name": "ipython",
    "version": 3
   },
   "file_extension": ".py",
   "mimetype": "text/x-python",
   "name": "python",
   "nbconvert_exporter": "python",
   "pygments_lexer": "ipython3",
   "version": "3.9.2"
  },
  "orig_nbformat": 4
 },
 "nbformat": 4,
 "nbformat_minor": 2
}
